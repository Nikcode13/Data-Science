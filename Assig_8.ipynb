{
 "cells": [
  {
   "cell_type": "code",
   "execution_count": 1,
   "id": "f3564b07",
   "metadata": {},
   "outputs": [],
   "source": [
    "import numpy as np\n",
    "import scipy.stats as stats"
   ]
  },
  {
   "cell_type": "code",
   "execution_count": 2,
   "id": "c03076bd",
   "metadata": {},
   "outputs": [
    {
     "name": "stdout",
     "output_type": "stream",
     "text": [
      "Pearson Correlation:\n",
      "Pearson correlation Coefficient:0.9943\n",
      "Interpretation:strong positive linear relationship\n",
      "P-value:0.0005\n",
      "Connclusion: The correlation is statistically significant.\n",
      "\n",
      "Spearman Correlation:\n",
      "spearman correlation Coefficient:1.0000\n",
      "Interpretation:strong positive monotonic relationship\n",
      "P-value:0.0000\n",
      "Connclusion: The correlation is statistically significant.\n"
     ]
    }
   ],
   "source": [
    "def pearson_correlation(x,y):\n",
    "    pearson_corr,p_value=stats.pearsonr(x,y)\n",
    "    print(f\"Pearson correlation Coefficient:{pearson_corr:.4f}\")\n",
    "    \n",
    "    if pearson_corr>0.8:\n",
    "        print(\"Interpretation:strong positive linear relationship\")\n",
    "    elif pearson_corr>0.5:\n",
    "        print(\"Interpretation:Moderate positive linear relationship\")\n",
    "    elif pearson_corr>0:\n",
    "        print(\"Interpretation:Weak positive linear relationship\")\n",
    "    elif pearson_corr<-0.8:\n",
    "        print(\"Interpretation:strong negative linear relationship\")\n",
    "    elif pearson_corr<-0.5:\n",
    "        print(\"Interpretation:Moderate negative linear relationship\")\n",
    "    elif pearson_corr<0:\n",
    "        print(\"Interpretation:Weak negative linear relationship\")\n",
    "    else:\n",
    "        print(\"Interpretation:No linear relationship\")\n",
    "        \n",
    "    print(f\"P-value:{p_value:.4f}\")\n",
    "    if p_value<0.05:\n",
    "        print(\"Connclusion: The correlation is statistically significant.\")\n",
    "    else:\n",
    "        print(\"Connclusion: The correlation is not statistically significant.\")\n",
    "        \n",
    "def spearman_correlation(x,y):\n",
    "    \n",
    "    spearman_corr,p_value=stats.spearmanr(x,y)\n",
    "    print(f\"spearman correlation Coefficient:{spearman_corr:.4f}\")\n",
    "    \n",
    "    if spearman_corr>0.8:\n",
    "        print(\"Interpretation:strong positive monotonic relationship\")\n",
    "    elif spearman_corr>0.5:\n",
    "        print(\"Interpretation:Moderate positive monotonic relationship\")\n",
    "    elif spearman_corr>0:\n",
    "        print(\"Interpretation:Weak positive monotonic relationship\")\n",
    "    elif spearman_corr<-0.8:\n",
    "        print(\"Interpretation:strong negative monotonic relationship\")\n",
    "    elif spearman_corr<-0.5:\n",
    "        print(\"Interpretation:Moderate negative monotonic relationship\")\n",
    "    elif spearman_corr<0:\n",
    "        print(\"Interpretation:Weak negative monotonic relationship\")\n",
    "    else:\n",
    "        print(\"Interpretation:No monotonic relationship\")\n",
    "        \n",
    "    print(f\"P-value:{p_value:.4f}\")\n",
    "    if p_value<0.05:\n",
    "        print(\"Connclusion: The correlation is statistically significant.\")\n",
    "    else:\n",
    "        print(\"Connclusion: The correlation is not statistically significant.\")\n",
    "        \n",
    "x=[10,20,30,40,50]\n",
    "y=[12,22,31,43,48]\n",
    "\n",
    "print(\"Pearson Correlation:\")\n",
    "pearson_correlation(x,y)\n",
    "\n",
    "print(\"\\nSpearman Correlation:\")\n",
    "spearman_correlation(x,y)"
   ]
  },
  {
   "cell_type": "code",
   "execution_count": null,
   "id": "0a2a43a4",
   "metadata": {},
   "outputs": [],
   "source": []
  }
 ],
 "metadata": {
  "kernelspec": {
   "display_name": "Python 3 (ipykernel)",
   "language": "python",
   "name": "python3"
  },
  "language_info": {
   "codemirror_mode": {
    "name": "ipython",
    "version": 3
   },
   "file_extension": ".py",
   "mimetype": "text/x-python",
   "name": "python",
   "nbconvert_exporter": "python",
   "pygments_lexer": "ipython3",
   "version": "3.10.9"
  }
 },
 "nbformat": 4,
 "nbformat_minor": 5
}
